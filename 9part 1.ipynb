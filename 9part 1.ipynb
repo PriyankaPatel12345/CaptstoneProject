{
    "nbformat_minor": 1, 
    "cells": [
        {
            "source": "pip install BeautifulSoup4\n\n", 
            "cell_type": "code", 
            "execution_count": 4, 
            "outputs": [
                {
                    "output_type": "error", 
                    "evalue": "invalid syntax (<ipython-input-4-547cc77bc208>, line 1)", 
                    "traceback": [
                        "\u001b[0;36m  File \u001b[0;32m\"<ipython-input-4-547cc77bc208>\"\u001b[0;36m, line \u001b[0;32m1\u001b[0m\n\u001b[0;31m    pip install BeautifulSoup4\u001b[0m\n\u001b[0m              ^\u001b[0m\n\u001b[0;31mSyntaxError\u001b[0m\u001b[0;31m:\u001b[0m invalid syntax\n"
                    ], 
                    "ename": "SyntaxError"
                }
            ], 
            "metadata": {}
        }, 
        {
            "source": "import requests\nfrom bs4 import BeautifulSoup\nimport pandas as pd\n", 
            "cell_type": "code", 
            "execution_count": 5, 
            "outputs": [], 
            "metadata": {}
        }, 
        {
            "source": "page = requests.get(\"https://en.wikipedia.org/wiki/List_of_postal_codes_of_Canada:_M\")\nsoup = BeautifulSoup(page.content, 'html.parser')", 
            "cell_type": "code", 
            "execution_count": 6, 
            "outputs": [], 
            "metadata": {}
        }, 
        {
            "source": "table = soup.find('tbody')\nrows = table.select('tr')\nrow = [r.get_text() for r in rows]", 
            "cell_type": "code", 
            "execution_count": 7, 
            "outputs": [], 
            "metadata": {}
        }, 
        {
            "source": "df = pd.DataFrame(row)\ndf1 = df[0].str.split('\\n', expand=True)\ndf2 = df1.rename(columns=df1.iloc[0])\ndf3 = df2.drop(df2.index[0])\ndf3.head()", 
            "cell_type": "code", 
            "execution_count": 8, 
            "outputs": [
                {
                    "output_type": "execute_result", 
                    "metadata": {}, 
                    "data": {
                        "text/html": "<div>\n<style scoped>\n    .dataframe tbody tr th:only-of-type {\n        vertical-align: middle;\n    }\n\n    .dataframe tbody tr th {\n        vertical-align: top;\n    }\n\n    .dataframe thead th {\n        text-align: right;\n    }\n</style>\n<table border=\"1\" class=\"dataframe\">\n  <thead>\n    <tr style=\"text-align: right;\">\n      <th></th>\n      <th></th>\n      <th>Postcode</th>\n      <th>Borough</th>\n      <th>Neighbourhood</th>\n      <th></th>\n    </tr>\n  </thead>\n  <tbody>\n    <tr>\n      <th>1</th>\n      <td></td>\n      <td>M1A</td>\n      <td>Not assigned</td>\n      <td>Not assigned</td>\n      <td></td>\n    </tr>\n    <tr>\n      <th>2</th>\n      <td></td>\n      <td>M2A</td>\n      <td>Not assigned</td>\n      <td>Not assigned</td>\n      <td></td>\n    </tr>\n    <tr>\n      <th>3</th>\n      <td></td>\n      <td>M3A</td>\n      <td>North York</td>\n      <td>Parkwoods</td>\n      <td></td>\n    </tr>\n    <tr>\n      <th>4</th>\n      <td></td>\n      <td>M4A</td>\n      <td>North York</td>\n      <td>Victoria Village</td>\n      <td></td>\n    </tr>\n    <tr>\n      <th>5</th>\n      <td></td>\n      <td>M5A</td>\n      <td>Downtown Toronto</td>\n      <td>Harbourfront</td>\n      <td></td>\n    </tr>\n  </tbody>\n</table>\n</div>", 
                        "text/plain": "    Postcode           Borough     Neighbourhood  \n1        M1A      Not assigned      Not assigned  \n2        M2A      Not assigned      Not assigned  \n3        M3A        North York         Parkwoods  \n4        M4A        North York  Victoria Village  \n5        M5A  Downtown Toronto      Harbourfront  "
                    }, 
                    "execution_count": 8
                }
            ], 
            "metadata": {}
        }, 
        {
            "source": "df4 = df3[df3.Borough != 'Not assigned']\ndf4.head()", 
            "cell_type": "code", 
            "execution_count": 9, 
            "outputs": [
                {
                    "output_type": "execute_result", 
                    "metadata": {}, 
                    "data": {
                        "text/html": "<div>\n<style scoped>\n    .dataframe tbody tr th:only-of-type {\n        vertical-align: middle;\n    }\n\n    .dataframe tbody tr th {\n        vertical-align: top;\n    }\n\n    .dataframe thead th {\n        text-align: right;\n    }\n</style>\n<table border=\"1\" class=\"dataframe\">\n  <thead>\n    <tr style=\"text-align: right;\">\n      <th></th>\n      <th></th>\n      <th>Postcode</th>\n      <th>Borough</th>\n      <th>Neighbourhood</th>\n      <th></th>\n    </tr>\n  </thead>\n  <tbody>\n    <tr>\n      <th>3</th>\n      <td></td>\n      <td>M3A</td>\n      <td>North York</td>\n      <td>Parkwoods</td>\n      <td></td>\n    </tr>\n    <tr>\n      <th>4</th>\n      <td></td>\n      <td>M4A</td>\n      <td>North York</td>\n      <td>Victoria Village</td>\n      <td></td>\n    </tr>\n    <tr>\n      <th>5</th>\n      <td></td>\n      <td>M5A</td>\n      <td>Downtown Toronto</td>\n      <td>Harbourfront</td>\n      <td></td>\n    </tr>\n    <tr>\n      <th>6</th>\n      <td></td>\n      <td>M5A</td>\n      <td>Downtown Toronto</td>\n      <td>Regent Park</td>\n      <td></td>\n    </tr>\n    <tr>\n      <th>7</th>\n      <td></td>\n      <td>M6A</td>\n      <td>North York</td>\n      <td>Lawrence Heights</td>\n      <td></td>\n    </tr>\n  </tbody>\n</table>\n</div>", 
                        "text/plain": "    Postcode           Borough     Neighbourhood  \n3        M3A        North York         Parkwoods  \n4        M4A        North York  Victoria Village  \n5        M5A  Downtown Toronto      Harbourfront  \n6        M5A  Downtown Toronto       Regent Park  \n7        M6A        North York  Lawrence Heights  "
                    }, 
                    "execution_count": 9
                }
            ], 
            "metadata": {}
        }, 
        {
            "source": "df5 = df4.groupby(['Postcode', 'Borough'], sort = False).agg(','.join)\ndf5.reset_index(inplace = True)\ndf5.head()", 
            "cell_type": "code", 
            "execution_count": 10, 
            "outputs": [
                {
                    "output_type": "execute_result", 
                    "metadata": {}, 
                    "data": {
                        "text/html": "<div>\n<style scoped>\n    .dataframe tbody tr th:only-of-type {\n        vertical-align: middle;\n    }\n\n    .dataframe tbody tr th {\n        vertical-align: top;\n    }\n\n    .dataframe thead th {\n        text-align: right;\n    }\n</style>\n<table border=\"1\" class=\"dataframe\">\n  <thead>\n    <tr style=\"text-align: right;\">\n      <th></th>\n      <th>Postcode</th>\n      <th>Borough</th>\n      <th>Neighbourhood</th>\n    </tr>\n  </thead>\n  <tbody>\n    <tr>\n      <th>0</th>\n      <td>M3A</td>\n      <td>North York</td>\n      <td>Parkwoods</td>\n    </tr>\n    <tr>\n      <th>1</th>\n      <td>M4A</td>\n      <td>North York</td>\n      <td>Victoria Village</td>\n    </tr>\n    <tr>\n      <th>2</th>\n      <td>M5A</td>\n      <td>Downtown Toronto</td>\n      <td>Harbourfront,Regent Park</td>\n    </tr>\n    <tr>\n      <th>3</th>\n      <td>M6A</td>\n      <td>North York</td>\n      <td>Lawrence Heights,Lawrence Manor</td>\n    </tr>\n    <tr>\n      <th>4</th>\n      <td>M7A</td>\n      <td>Queen's Park</td>\n      <td>Not assigned</td>\n    </tr>\n  </tbody>\n</table>\n</div>", 
                        "text/plain": "  Postcode           Borough                    Neighbourhood\n0      M3A        North York                        Parkwoods\n1      M4A        North York                 Victoria Village\n2      M5A  Downtown Toronto         Harbourfront,Regent Park\n3      M6A        North York  Lawrence Heights,Lawrence Manor\n4      M7A      Queen's Park                     Not assigned"
                    }, 
                    "execution_count": 10
                }
            ], 
            "metadata": {}
        }, 
        {
            "source": "df6 = df5.replace(\"Not assigned\", \"Queen's Park\")\ndf6.head()", 
            "cell_type": "code", 
            "execution_count": 11, 
            "outputs": [
                {
                    "output_type": "execute_result", 
                    "metadata": {}, 
                    "data": {
                        "text/html": "<div>\n<style scoped>\n    .dataframe tbody tr th:only-of-type {\n        vertical-align: middle;\n    }\n\n    .dataframe tbody tr th {\n        vertical-align: top;\n    }\n\n    .dataframe thead th {\n        text-align: right;\n    }\n</style>\n<table border=\"1\" class=\"dataframe\">\n  <thead>\n    <tr style=\"text-align: right;\">\n      <th></th>\n      <th>Postcode</th>\n      <th>Borough</th>\n      <th>Neighbourhood</th>\n    </tr>\n  </thead>\n  <tbody>\n    <tr>\n      <th>0</th>\n      <td>M3A</td>\n      <td>North York</td>\n      <td>Parkwoods</td>\n    </tr>\n    <tr>\n      <th>1</th>\n      <td>M4A</td>\n      <td>North York</td>\n      <td>Victoria Village</td>\n    </tr>\n    <tr>\n      <th>2</th>\n      <td>M5A</td>\n      <td>Downtown Toronto</td>\n      <td>Harbourfront,Regent Park</td>\n    </tr>\n    <tr>\n      <th>3</th>\n      <td>M6A</td>\n      <td>North York</td>\n      <td>Lawrence Heights,Lawrence Manor</td>\n    </tr>\n    <tr>\n      <th>4</th>\n      <td>M7A</td>\n      <td>Queen's Park</td>\n      <td>Queen's Park</td>\n    </tr>\n  </tbody>\n</table>\n</div>", 
                        "text/plain": "  Postcode           Borough                    Neighbourhood\n0      M3A        North York                        Parkwoods\n1      M4A        North York                 Victoria Village\n2      M5A  Downtown Toronto         Harbourfront,Regent Park\n3      M6A        North York  Lawrence Heights,Lawrence Manor\n4      M7A      Queen's Park                     Queen's Park"
                    }, 
                    "execution_count": 11
                }
            ], 
            "metadata": {}
        }, 
        {
            "source": "df6.shape\n", 
            "cell_type": "code", 
            "execution_count": 12, 
            "outputs": [
                {
                    "output_type": "execute_result", 
                    "metadata": {}, 
                    "data": {
                        "text/plain": "(103, 3)"
                    }, 
                    "execution_count": 12
                }
            ], 
            "metadata": {}
        }, 
        {
            "source": "", 
            "cell_type": "code", 
            "execution_count": null, 
            "outputs": [], 
            "metadata": {}
        }
    ], 
    "nbformat": 4, 
    "metadata": {
        "kernelspec": {
            "display_name": "Python 3.6", 
            "name": "python3", 
            "language": "python"
        }, 
        "language_info": {
            "mimetype": "text/x-python", 
            "nbconvert_exporter": "python", 
            "version": "3.6.8", 
            "name": "python", 
            "pygments_lexer": "ipython3", 
            "file_extension": ".py", 
            "codemirror_mode": {
                "version": 3, 
                "name": "ipython"
            }
        }
    }
}